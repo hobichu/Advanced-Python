{
 "cells": [
  {
   "cell_type": "code",
   "execution_count": 11,
   "id": "76cc4e49-811b-47c7-8a6a-f372bbc76ca5",
   "metadata": {},
   "outputs": [
    {
     "data": {
      "text/plain": [
       "45"
      ]
     },
     "execution_count": 11,
     "metadata": {},
     "output_type": "execute_result"
    }
   ],
   "source": [
    "# +b: 새로운 라인 생성\n",
    "# run(실행): shift+enter\n",
    "45"
   ]
  },
  {
   "cell_type": "markdown",
   "id": "b4023367-de4e-44e9-9a60-c89e13a4fa6d",
   "metadata": {
    "tags": []
   },
   "source": [
    "markdown space\n",
    "# Heading 1\n",
    "## Heading 2\n",
    "### Heading 3"
   ]
  },
  {
   "cell_type": "markdown",
   "id": "59743545-d990-4504-979a-50a0b99982d0",
   "metadata": {},
   "source": [
    "- +m\n",
    "- item 1\n",
    "- item 2"
   ]
  },
  {
   "cell_type": "code",
   "execution_count": 2,
   "id": "e413f0ef-cf1b-4caa-91c9-1f02a5e437c2",
   "metadata": {},
   "outputs": [
    {
     "name": "stdout",
     "output_type": "stream",
     "text": [
      "45\n"
     ]
    }
   ],
   "source": [
    "print(45) #주석처리"
   ]
  },
  {
   "cell_type": "markdown",
   "id": "0b422499-ff96-423f-a969-6e6370c2d66d",
   "metadata": {
    "tags": []
   },
   "source": [
    "## 프로그래밍\n",
    "    - 프로그래밍 언어를 사용하여 프로그램을 개발하는 것\n",
    "    - 논리적인 사고를 가질 수 있다.\n",
    "## programming Language?\n",
    "    - 프로그램을 개발할 때 사용하는 도구\n",
    "    - 인간이 원하는 것을 컴퓨터에게 명령할 때 사용하는 컴퓨터가 이해할 수 있는 단어\n",
    "    \n",
    "## 파이썬?\n",
    "    - 쉽다, 간결하다.\n",
    "    - 라이브러리가 많다."
   ]
  },
  {
   "cell_type": "markdown",
   "id": "bea227b4-22fe-4d06-80cf-3e3816b96fb2",
   "metadata": {
    "tags": []
   },
   "source": [
    "## Chapter 2. Data: Types, Values, Variables, and Names "
   ]
  },
  {
   "cell_type": "code",
   "execution_count": 4,
   "id": "a26c815f-d5fe-4db4-bc88-267a6f6ec3ab",
   "metadata": {},
   "outputs": [],
   "source": [
    "a = 2"
   ]
  },
  {
   "cell_type": "code",
   "execution_count": 5,
   "id": "0bb61adb-e9a4-4103-ab77-3ab5294f536e",
   "metadata": {},
   "outputs": [
    {
     "data": {
      "text/plain": [
       "True"
      ]
     },
     "execution_count": 5,
     "metadata": {},
     "output_type": "execute_result"
    }
   ],
   "source": [
    "a == 2"
   ]
  },
  {
   "cell_type": "markdown",
   "id": "dff3d3f4-86a0-46ab-b117-838bfdf8d4dc",
   "metadata": {},
   "source": [
    "- 변수/variable: 특정 값을 저장하는 공간\n",
    "    a\n",
    "- 값/value\n",
    "    2\n",
    "- 할당하다/assign: 변수에 값을 넣는 과정\n",
    "    \"2를 a에 넣었다.\"\n",
    "    \n",
    "    *** a는 2다. a == 2\n",
    "- 자료형/type: 데이터의 형태 a 데이터의 형태? integer(정수): int 타입이다"
   ]
  },
  {
   "cell_type": "code",
   "execution_count": 6,
   "id": "0cbbf98b-e9aa-4188-b97b-776cee0095e6",
   "metadata": {},
   "outputs": [
    {
     "name": "stdout",
     "output_type": "stream",
     "text": [
      "2\n"
     ]
    }
   ],
   "source": [
    "print(a)"
   ]
  },
  {
   "cell_type": "code",
   "execution_count": 7,
   "id": "179ae7cf-a15d-4fda-bf95-dace818de3c4",
   "metadata": {},
   "outputs": [
    {
     "data": {
      "text/plain": [
       "2"
      ]
     },
     "execution_count": 7,
     "metadata": {},
     "output_type": "execute_result"
    }
   ],
   "source": [
    "a"
   ]
  },
  {
   "cell_type": "code",
   "execution_count": 8,
   "id": "9b4949b9-9a39-4e76-bb8b-f786a11535ac",
   "metadata": {},
   "outputs": [
    {
     "data": {
      "text/plain": [
       "int"
      ]
     },
     "execution_count": 8,
     "metadata": {},
     "output_type": "execute_result"
    }
   ],
   "source": [
    "# type\n",
    "type(a)"
   ]
  },
  {
   "cell_type": "code",
   "execution_count": 9,
   "id": "aa4277fe-9c77-432e-b48f-4c05d9a41bb3",
   "metadata": {},
   "outputs": [
    {
     "data": {
      "text/plain": [
       "int"
      ]
     },
     "execution_count": 9,
     "metadata": {},
     "output_type": "execute_result"
    }
   ],
   "source": [
    "type(2)"
   ]
  },
  {
   "cell_type": "code",
   "execution_count": 13,
   "id": "d43b2af4-80bd-4a37-bd7a-e0abde7f6243",
   "metadata": {},
   "outputs": [
    {
     "data": {
      "text/plain": [
       "bool"
      ]
     },
     "execution_count": 13,
     "metadata": {},
     "output_type": "execute_result"
    }
   ],
   "source": [
    "type(a == 2) # bool, boolean T/F"
   ]
  },
  {
   "cell_type": "markdown",
   "id": "0d710cce-a203-4780-8c3b-a8621346b113",
   "metadata": {},
   "source": [
    "### Type\n",
    "- integer (정수: 1, 2, 3, ..) {int}\n",
    "- floating point number (부동소수점: 1.0, 2.0, ..., 0.4) {float}\n",
    "- string (문자열: \"1\", 'apple') {str}\n",
    "- boulean (불리언: True/False) {bool}"
   ]
  },
  {
   "cell_type": "code",
   "execution_count": 14,
   "id": "948ee53e-1dc3-4fe3-8abb-e77b748cd73f",
   "metadata": {},
   "outputs": [
    {
     "data": {
      "text/plain": [
       "str"
      ]
     },
     "execution_count": 14,
     "metadata": {},
     "output_type": "execute_result"
    }
   ],
   "source": [
    "type(\"1\")"
   ]
  },
  {
   "cell_type": "code",
   "execution_count": 16,
   "id": "36c4e2f2-9af4-4037-9133-46bf836d4f87",
   "metadata": {},
   "outputs": [
    {
     "data": {
      "text/plain": [
       "str"
      ]
     },
     "execution_count": 16,
     "metadata": {},
     "output_type": "execute_result"
    }
   ],
   "source": [
    "type('apple') # '' 없이 그냥 썼을때는 변수명으로 인식된다"
   ]
  },
  {
   "cell_type": "code",
   "execution_count": 17,
   "id": "6c42a1a5-7a6f-4ca7-b19c-86e45eff1fbf",
   "metadata": {},
   "outputs": [
    {
     "data": {
      "text/plain": [
       "'kim'"
      ]
     },
     "execution_count": 17,
     "metadata": {},
     "output_type": "execute_result"
    }
   ],
   "source": [
    "name = 'kim'\n",
    "name"
   ]
  },
  {
   "cell_type": "code",
   "execution_count": 18,
   "id": "f3c0d82d-885d-450c-8652-6a99d286b072",
   "metadata": {},
   "outputs": [
    {
     "name": "stdout",
     "output_type": "stream",
     "text": [
      "kim\n"
     ]
    }
   ],
   "source": [
    "print(name)"
   ]
  },
  {
   "cell_type": "code",
   "execution_count": 19,
   "id": "11afe6c1-9cfa-49f7-a409-ca508b913c68",
   "metadata": {},
   "outputs": [
    {
     "name": "stdout",
     "output_type": "stream",
     "text": [
      "kim\n"
     ]
    }
   ],
   "source": [
    "print('kim') # 지양해야 함 (왠만하면 변수에 넣고 출력)"
   ]
  },
  {
   "cell_type": "markdown",
   "id": "a1f9d973-1c06-445a-9c69-cd33d5048e24",
   "metadata": {},
   "source": [
    "### 할당\n",
    "- = 이 기호를 사용한다.\n",
    "- 수학에서는 '양변이 같다'라는 의미로 사용되지만, 프로그래밍에서는 '할당하다'라는 의미가 추가된다.\n",
    "- \"오른쪽의 값을 왼쪽에 할당한다\"\n",
    "- 1. 오른쪽에 있는 모든 것은 값을 가져야 한다. (초기화를 해야 한다.)\n",
    "- 2. 같은 변수에 다른 값을 넣을 수 있다."
   ]
  },
  {
   "cell_type": "code",
   "execution_count": 20,
   "id": "ab44c7e7-4a06-49fa-b840-9c92ab7f2fcf",
   "metadata": {},
   "outputs": [],
   "source": [
    "x = 4 # 초기화 : 값을 처음 정해주는 것\n",
    "y = x + 3 "
   ]
  },
  {
   "cell_type": "code",
   "execution_count": 21,
   "id": "ad4314ce-6de4-4614-a647-a97e3ee9a6e9",
   "metadata": {},
   "outputs": [
    {
     "data": {
      "text/plain": [
       "(4, 7)"
      ]
     },
     "execution_count": 21,
     "metadata": {},
     "output_type": "execute_result"
    }
   ],
   "source": [
    "x, y"
   ]
  },
  {
   "cell_type": "code",
   "execution_count": 22,
   "id": "dc16677d-e8fc-4c0c-878a-b839139c9697",
   "metadata": {},
   "outputs": [],
   "source": [
    "name = 'kim'\n",
    "name = 'Lee'\n",
    "name = 'park'\n",
    "name = 4 # 여러개를 썼을 때 맨 마지막 값이 출력"
   ]
  },
  {
   "cell_type": "code",
   "execution_count": 24,
   "id": "f2cf9f18-c17b-4220-aa4c-7ad7e75e7042",
   "metadata": {},
   "outputs": [
    {
     "name": "stdout",
     "output_type": "stream",
     "text": [
      "4\n"
     ]
    }
   ],
   "source": [
    "print(name) # 변수명 동일하게 사용하지 말라"
   ]
  },
  {
   "cell_type": "markdown",
   "id": "e9c81cec-9d8a-4393-8dc9-433a8cf97f1d",
   "metadata": {},
   "source": [
    "### 변수명 정하기\n",
    "- 나쁜 변수명: a, b, c, a1, b1, ..\n",
    "- 의미있는 이름으로 선언해야 한다.\n",
    "- 소문자, 대문자, 숫자, 언더바를 사용한다.\n",
    "    예: name, name2, my_name, Name, NAME"
   ]
  },
  {
   "cell_type": "code",
   "execution_count": 25,
   "id": "8a8e4fb5-2bbd-4d2e-ac38-262128419848",
   "metadata": {},
   "outputs": [
    {
     "name": "stdout",
     "output_type": "stream",
     "text": [
      "juliette,jessica,laura\n"
     ]
    }
   ],
   "source": [
    "name = 'juliette'\n",
    "name1 = 'jessica'\n",
    "my_name = 'laura'\n",
    "# myName (카멜표기법)\n",
    "\n",
    "print(name, name1, my_name, sep=',')"
   ]
  },
  {
   "cell_type": "markdown",
   "id": "6be21050-abe0-4809-9685-6342f94aac60",
   "metadata": {},
   "source": [
    "- 안되는 것\n",
    "    - 숫자로 시작할 수 없다.\n",
    "        예: 22name, 22_name\n",
    "    - 예약어로 선언할 수 없다. (예약어: 문법에서 사용하는 이름)\n",
    "        예: def, False, ..."
   ]
  },
  {
   "cell_type": "code",
   "execution_count": 27,
   "id": "7a19f3b3-d18b-4c20-af89-781f95f6591f",
   "metadata": {},
   "outputs": [
    {
     "name": "stdout",
     "output_type": "stream",
     "text": [
      "\n",
      "Here is a list of the Python keywords.  Enter any keyword to get more help.\n",
      "\n",
      "False               break               for                 not\n",
      "None                class               from                or\n",
      "True                continue            global              pass\n",
      "__peg_parser__      def                 if                  raise\n",
      "and                 del                 import              return\n",
      "as                  elif                in                  try\n",
      "assert              else                is                  while\n",
      "async               except              lambda              with\n",
      "await               finally             nonlocal            yield\n",
      "\n"
     ]
    }
   ],
   "source": [
    "# if = 'kim' (x)\n",
    "help(\"keywords\") # 변수 이름으로 쓸 수 없는 예약어 종류"
   ]
  },
  {
   "cell_type": "markdown",
   "id": "5d097836-8b0c-4c71-b16c-b9e48245f683",
   "metadata": {},
   "source": [
    "- 조심할 것 : 특별한 용도가 있기 때문에\n",
    "    - 언더바로 시작하는 변수명: _name\n",
    "    - 더블 언더바로 시작하는 변수명: _name_\n",
    "    - 대문자로 시작하는 변수: Name\n",
    "    - 전체 대문자: NAME"
   ]
  },
  {
   "cell_type": "code",
   "execution_count": 28,
   "id": "f7c19dea-0f59-42ef-bd3c-035791e35986",
   "metadata": {},
   "outputs": [],
   "source": [
    "# 변수명은 대소문자 구분한다.\n",
    "num = 43\n",
    "Num = 44"
   ]
  },
  {
   "cell_type": "code",
   "execution_count": 29,
   "id": "a0c427fd-8556-46ee-9ce9-f1cefff1eef6",
   "metadata": {},
   "outputs": [
    {
     "data": {
      "text/plain": [
       "False"
      ]
     },
     "execution_count": 29,
     "metadata": {},
     "output_type": "execute_result"
    }
   ],
   "source": [
    "num == Num"
   ]
  },
  {
   "cell_type": "code",
   "execution_count": 30,
   "id": "b4d60d8c-29c4-49d6-a475-fe5054922148",
   "metadata": {},
   "outputs": [
    {
     "data": {
      "text/plain": [
       "False"
      ]
     },
     "execution_count": 30,
     "metadata": {},
     "output_type": "execute_result"
    }
   ],
   "source": [
    "num = 'number'\n",
    "Num = 'Number'\n",
    "num == Num"
   ]
  },
  {
   "cell_type": "code",
   "execution_count": 31,
   "id": "1f703c84-9e60-4871-935f-af46e209315f",
   "metadata": {},
   "outputs": [
    {
     "data": {
      "text/plain": [
       "True"
      ]
     },
     "execution_count": 31,
     "metadata": {},
     "output_type": "execute_result"
    }
   ],
   "source": [
    "num != Num # != : 다르다"
   ]
  }
 ],
 "metadata": {
  "kernelspec": {
   "display_name": "Python 3 (ipykernel)",
   "language": "python",
   "name": "python3"
  },
  "language_info": {
   "codemirror_mode": {
    "name": "ipython",
    "version": 3
   },
   "file_extension": ".py",
   "mimetype": "text/x-python",
   "name": "python",
   "nbconvert_exporter": "python",
   "pygments_lexer": "ipython3",
   "version": "3.9.7"
  }
 },
 "nbformat": 4,
 "nbformat_minor": 5
}
